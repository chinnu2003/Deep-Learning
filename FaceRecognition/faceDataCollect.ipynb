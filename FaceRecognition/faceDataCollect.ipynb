{
 "cells": [
  {
   "cell_type": "markdown",
   "id": "388843a2-75a0-41d6-816f-364e9004bf18",
   "metadata": {},
   "source": [
    "# Face Recognition project\n",
    "- Read a video from webcam using openCV\n",
    "- Face detection in the video"
   ]
  },
  {
   "cell_type": "code",
   "execution_count": 1,
   "id": "ac8060f4-cbc0-466f-8434-9ce692250f64",
   "metadata": {},
   "outputs": [],
   "source": [
    "import cv2\n",
    "import numpy as np"
   ]
  },
  {
   "cell_type": "markdown",
   "id": "3ff40a4e-3fb3-4343-b5a3-a18f3079f148",
   "metadata": {},
   "source": [
    "## Data Collection"
   ]
  },
  {
   "cell_type": "code",
   "execution_count": null,
   "id": "3af0ce9f-1598-4b04-a56a-d8e6a4060764",
   "metadata": {},
   "outputs": [
    {
     "name": "stderr",
     "output_type": "stream",
     "text": [
      "[ WARN:0@11.126] global /private/var/folders/k1/30mswbxs7r1g6zwn8y4fyt500000gp/T/abs_11nitadzeg/croot/opencv-suite_1691620374638/work/modules/videoio/src/cap_gstreamer.cpp (862) isPipelinePlaying OpenCV | GStreamer warning: GStreamer: pipeline have not been created\n"
     ]
    },
    {
     "name": "stdout",
     "output_type": "stream",
     "text": [
      "Name of the person - kiran\n",
      "1\n",
      "2\n",
      "3\n",
      "4\n",
      "5\n",
      "6\n",
      "7\n",
      "8\n",
      "9\n",
      "10\n",
      "11\n",
      "12\n",
      "13\n",
      "14\n",
      "15\n",
      "16\n",
      "17\n",
      "18\n",
      "19\n",
      "20\n",
      "21\n",
      "22\n",
      "23\n",
      "24\n",
      "25\n",
      "26\n",
      "27\n",
      "28\n",
      "29\n",
      "30\n",
      "31\n",
      "32\n"
     ]
    }
   ],
   "source": [
    "# create a camera object\n",
    "cam = cv2.VideoCapture(0)\n",
    "\n",
    "# ask the name\n",
    "fileName = input(\"Name of the person - \")\n",
    "dataset_path = \"./data/\"\n",
    "\n",
    "\n",
    "# using haarcascade frontal face template\n",
    "model = cv2.CascadeClassifier('haarcascade_frontalface_alt.xml')\n",
    "\n",
    "# create a list for face data\n",
    "faceData = []\n",
    "cnt = 0\n",
    "skip = 0\n",
    "\n",
    "# read the image from camera object\n",
    "while True:\n",
    "    success, img = cam.read()\n",
    "    offset = 0\n",
    "    if not success:\n",
    "        print(\"Camera reading Failed !\")\n",
    "    \n",
    "    # store the gray image\n",
    "    grayImg = cv2.cvtColor(img,cv2.COLOR_BGR2GRAY)\n",
    "    faces = model.detectMultiScale(img, 1.3, 5)\n",
    "    \n",
    "    # sorting the faces according to the areas\n",
    "    faces = sorted(faces, key = lambda f: f[2]*f[3])\n",
    "    if len(faces)>0:\n",
    "        f = faces[-1]\n",
    "        x,y,w,h = f\n",
    "        cv2.rectangle(img,(x,y),(x+w,y+h),(0,255,0),2)\n",
    "\n",
    "        # crop and save the largest face\n",
    "        cropped_face = img[y-offset:y+h+offset,x-offset:x+offset+w]\n",
    "        cropped_face = cv2.resize(cropped_face,(100,100))\n",
    "    skip += 1\n",
    "    if skip % 10 == 0:\n",
    "        faceData.append(cropped_face)\n",
    "        print(len(faceData))\n",
    "    cv2.imshow(\"Image Window\",img)\n",
    "    # cv2.imshow(\"cropped face\",cropped_face)\n",
    "    key = cv2.waitKey(1)\n",
    "    if key == ord('q'):\n",
    "        break\n",
    "faceData = np.asarray(faceData)\n",
    "m = faceData.shape[0]\n",
    "faceData = faceData.reshape((m,-1))\n",
    "print(faceData.shape)\n",
    "filePath = dataset_path + fileName + \".npy\"\n",
    "np.save(filePath,faceData)\n",
    "print(\"Data saved successfully\" + filePath)\n",
    "cam.release()\n",
    "cam.destroyAllWinodws()"
   ]
  },
  {
   "cell_type": "code",
   "execution_count": null,
   "id": "b4887c09-564e-4e44-8efb-5a995d04a366",
   "metadata": {},
   "outputs": [],
   "source": []
  },
  {
   "cell_type": "code",
   "execution_count": null,
   "id": "175da40a-fb16-45da-87b8-fe83db56755c",
   "metadata": {},
   "outputs": [],
   "source": []
  }
 ],
 "metadata": {
  "kernelspec": {
   "display_name": "Python 3 (ipykernel)",
   "language": "python",
   "name": "python3"
  },
  "language_info": {
   "codemirror_mode": {
    "name": "ipython",
    "version": 3
   },
   "file_extension": ".py",
   "mimetype": "text/x-python",
   "name": "python",
   "nbconvert_exporter": "python",
   "pygments_lexer": "ipython3",
   "version": "3.11.5"
  }
 },
 "nbformat": 4,
 "nbformat_minor": 5
}
