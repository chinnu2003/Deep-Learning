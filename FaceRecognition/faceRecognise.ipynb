{
 "cells": [
  {
   "cell_type": "code",
   "execution_count": 1,
   "id": "84b1b7a7-51fb-4313-a4da-1cad02afc1d3",
   "metadata": {},
   "outputs": [],
   "source": [
    "import cv2\n",
    "import numpy as np\n",
    "import os\n",
    "from sklearn.neighbors import KNeighborsClassifier"
   ]
  },
  {
   "cell_type": "code",
   "execution_count": 2,
   "id": "d1f3b0cf-244d-49db-baf4-a271f13d7bc8",
   "metadata": {},
   "outputs": [],
   "source": [
    "# data\n",
    "dataset_path = \"./data/\"\n",
    "faceData = []\n",
    "labels = []\n",
    "classId = 0\n",
    "nameMap = {}"
   ]
  },
  {
   "cell_type": "code",
   "execution_count": 3,
   "id": "e8604c2e-c3f1-4cb9-9a89-dec3b0f0cd54",
   "metadata": {},
   "outputs": [
    {
     "name": "stdout",
     "output_type": "stream",
     "text": [
      "(60, 30000)\n",
      "(60, 1)\n",
      "{0: 'ravi', 1: 'sindhu', 2: 'dheeraj'}\n"
     ]
    }
   ],
   "source": [
    "for f in os.listdir(dataset_path):\n",
    "    if f.endswith(\".npy\"):\n",
    "        nameMap[classId] = f[:-4]\n",
    "        # X-value\n",
    "        dataItem = np.load(dataset_path + f)\n",
    "        m = dataItem.shape[0]\n",
    "        faceData.append(dataItem)\n",
    "\n",
    "        # Y-values\n",
    "        target = classId * np.ones((m,))\n",
    "        classId += 1\n",
    "        labels.append(target)\n",
    "\n",
    "# print(faceData)\n",
    "# print(labels)\n",
    "\n",
    "XT = np.concatenate(faceData, axis=0)\n",
    "yT = np.concatenate(labels,axis=0).reshape((-1,1))\n",
    "print(XT.shape)\n",
    "print(yT.shape)\n",
    "print(nameMap)"
   ]
  },
  {
   "cell_type": "code",
   "execution_count": 4,
   "id": "c5efdf70-fc31-406f-b52e-ce42cc4fd080",
   "metadata": {},
   "outputs": [],
   "source": [
    "# # KNN Algorithm\n",
    "\n",
    "\n",
    "# def dist(p,q):\n",
    "#     return np.sqrt(np.sum((p - q)**2))\n",
    "\n",
    "# def knn(X,y,xt,k=5):\n",
    "\n",
    "#     m = X.shape[0]\n",
    "#     dlist = []\n",
    "    \n",
    "#     for i in range(m):\n",
    "#         d = dist(X[i],xt)\n",
    "#         dlist.append((d,y[i]))\n",
    "\n",
    "#     dlist = sorted(dlist)\n",
    "#     dlist = np.array(dlist[:k])\n",
    "#     labels = dlist[:,1]\n",
    "\n",
    "#     labels, cnts = np.unique(labels,return_counts=True)\n",
    "#     idx = cnts.argmax()\n",
    "#     pred = labels[idx]\n",
    "\n",
    "#     return int(pred)"
   ]
  },
  {
   "cell_type": "code",
   "execution_count": 5,
   "id": "ccbe32c9-dd3b-49ab-b2d0-74eeee8e854b",
   "metadata": {},
   "outputs": [
    {
     "name": "stderr",
     "output_type": "stream",
     "text": [
      "[ WARN:0@0.494] global /private/var/folders/k1/30mswbxs7r1g6zwn8y4fyt500000gp/T/abs_11nitadzeg/croot/opencv-suite_1691620374638/work/modules/videoio/src/cap_gstreamer.cpp (862) isPipelinePlaying OpenCV | GStreamer warning: GStreamer: pipeline have not been created\n",
      "2023-12-26 18:55:00.054 python[4600:584110] WARNING: AVCaptureDeviceTypeExternal is deprecated for Continuity Cameras. Please use AVCaptureDeviceTypeContinuityCamera and add NSCameraUseContinuityCameraDeviceType to your Info.plist.\n",
      "/Users/dheeraj/anaconda3/envs/tensorflow/lib/python3.11/site-packages/sklearn/neighbors/_classification.py:233: DataConversionWarning: A column-vector y was passed when a 1d array was expected. Please change the shape of y to (n_samples,), for example using ravel().\n",
      "  return self._fit(X, y)\n"
     ]
    },
    {
     "ename": "AttributeError",
     "evalue": "'cv2.VideoCapture' object has no attribute 'destroyAllWinodws'",
     "output_type": "error",
     "traceback": [
      "\u001b[0;31m---------------------------------------------------------------------------\u001b[0m",
      "\u001b[0;31mAttributeError\u001b[0m                            Traceback (most recent call last)",
      "Cell \u001b[0;32mIn[5], line 33\u001b[0m\n\u001b[1;32m     30\u001b[0m         \u001b[38;5;28;01mbreak\u001b[39;00m\n\u001b[1;32m     32\u001b[0m cam\u001b[38;5;241m.\u001b[39mrelease()\n\u001b[0;32m---> 33\u001b[0m cam\u001b[38;5;241m.\u001b[39mdestroyAllWinodws()\n",
      "\u001b[0;31mAttributeError\u001b[0m: 'cv2.VideoCapture' object has no attribute 'destroyAllWinodws'"
     ]
    }
   ],
   "source": [
    "# predictions\n",
    "\n",
    "cam = cv2.VideoCapture(0)\n",
    "model = cv2.CascadeClassifier(\"haarcascade_frontalface_alt.xml\")\n",
    "knn = KNeighborsClassifier(n_neighbors=4)\n",
    "knn.fit(XT,yT)\n",
    "while True:\n",
    "    success, img = cam.read()\n",
    "    if not success:\n",
    "        print(\"Camera reading Failed !\")\n",
    "    \n",
    "    faces = model.detectMultiScale(img, 1.3, 5)\n",
    "    for f in faces:\n",
    "        x,y,w,h = f\n",
    "\n",
    "        # crop and save the largest face\n",
    "        cropped_face = img[y:y+h,x:x+w]\n",
    "        cropped_face = cv2.resize(cropped_face, (100, 100)).flatten().reshape(1,-1)\n",
    "        \n",
    "        # predict name using knn\n",
    "\n",
    "\n",
    "        text = knn.predict(cropped_face)\n",
    "        cv2.putText(img, nameMap[text[0]], (x, y-10), cv2.FONT_HERSHEY_SIMPLEX, 1, (255, 255, 0), 2)\n",
    "        cv2.rectangle(img, (x, y), (x + w, y + w), (0, 0, 255), 2)\n",
    "        \n",
    "    cv2.imshow(\"prediction Window\", img)\n",
    "    key = cv2.waitKey(1)\n",
    "    if key == ord('q'):\n",
    "        break\n",
    "\n",
    "cam.release()\n",
    "cam.destroyAllWinodws()\n",
    "    "
   ]
  }
 ],
 "metadata": {
  "kernelspec": {
   "display_name": "Python 3 (ipykernel)",
   "language": "python",
   "name": "python3"
  },
  "language_info": {
   "codemirror_mode": {
    "name": "ipython",
    "version": 3
   },
   "file_extension": ".py",
   "mimetype": "text/x-python",
   "name": "python",
   "nbconvert_exporter": "python",
   "pygments_lexer": "ipython3",
   "version": "3.11.5"
  }
 },
 "nbformat": 4,
 "nbformat_minor": 5
}
